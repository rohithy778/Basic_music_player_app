{
 "cells": [
  {
   "cell_type": "code",
   "execution_count": 2,
   "id": "474ce0cd",
   "metadata": {},
   "outputs": [
    {
     "name": "stdout",
     "output_type": "stream",
     "text": [
      "Collecting pygame\n",
      "  Downloading pygame-2.1.2-cp39-cp39-macosx_10_9_x86_64.whl (8.9 MB)\n",
      "\u001b[K     |████████████████████████████████| 8.9 MB 7.8 MB/s eta 0:00:01\n",
      "\u001b[?25hInstalling collected packages: pygame\n",
      "Successfully installed pygame-2.1.2\n",
      "Note: you may need to restart the kernel to use updated packages.\n"
     ]
    }
   ],
   "source": [
    "pip install pygame"
   ]
  },
  {
   "cell_type": "code",
   "execution_count": 5,
   "id": "05a05b8e",
   "metadata": {},
   "outputs": [],
   "source": [
    "from pygame import mixer\n",
    "\n",
    "mixer.init()\n",
    "\n",
    "mixer.music.load('OP 01 - We Are!.ogg')\n",
    "\n",
    "mixer.music.play()\n",
    "mixer.music.stop()"
   ]
  },
  {
   "cell_type": "code",
   "execution_count": 6,
   "id": "4d5e1d67",
   "metadata": {},
   "outputs": [],
   "source": []
  },
  {
   "cell_type": "markdown",
   "id": "52b9bcdf",
   "metadata": {},
   "source": [
    "# Music Player"
   ]
  },
  {
   "cell_type": "code",
   "execution_count": null,
   "id": "3e7a68a5",
   "metadata": {},
   "outputs": [],
   "source": [
    "from tkinter import *\n",
    "from tkinter import filedialog\n",
    "from pygame import mixer\n",
    "\n",
    "class Player:\n",
    "    def __init__(self, window):\n",
    "        window.geometry('320x100'); window.title('Python Music_player'); window.resizable(0,0)\n",
    "        Load = Button(window, text=\"Load\", width = 10, font = ('Times', 10), command = self.load)\n",
    "        Play = Button(window, text=\"Play\", width = 10, font = ('Times', 10), command = self.play)\n",
    "        Pause = Button(window, text=\"Pause\", width = 10, font = ('Times', 10), command = self.pause)\n",
    "        Stop = Button(window, text=\"Stop\", width = 10, font = ('Times', 10), command = self.stop)\n",
    "        Load.place(x=0, y=20), Play.place(x=110, y=20); Pause.place(x=220, y=20); Stop.place(x=110, y=60)\n",
    "        self.music_file = False\n",
    "        self.playing_state = False\n",
    "    def load(self):\n",
    "        self.music_file = filedialog.askopenfilename()\n",
    "    def play(self):\n",
    "        if self.music_file:\n",
    "            mixer.init()\n",
    "            mixer.music.load(self.music_file)\n",
    "            mixer.music.play()\n",
    "    def pause(self):\n",
    "        if not self.playing_state:\n",
    "            mixer.music.pause()\n",
    "            self.playing_state = True\n",
    "        else:\n",
    "            mixer.music.unpause()\n",
    "            self.playing_state = False\n",
    "    def stop(self):\n",
    "        mixer.music.stop()\n",
    "        \n",
    "new_root = Tk()\n",
    "player_app = Player(new_root)\n",
    "new_root.mainloop()\n"
   ]
  },
  {
   "cell_type": "code",
   "execution_count": null,
   "id": "aefa3947",
   "metadata": {},
   "outputs": [],
   "source": []
  },
  {
   "cell_type": "code",
   "execution_count": null,
   "id": "591faa59",
   "metadata": {},
   "outputs": [],
   "source": []
  },
  {
   "cell_type": "code",
   "execution_count": null,
   "id": "685e050a",
   "metadata": {},
   "outputs": [],
   "source": []
  }
 ],
 "metadata": {
  "kernelspec": {
   "display_name": "Python 3 (ipykernel)",
   "language": "python",
   "name": "python3"
  },
  "language_info": {
   "codemirror_mode": {
    "name": "ipython",
    "version": 3
   },
   "file_extension": ".py",
   "mimetype": "text/x-python",
   "name": "python",
   "nbconvert_exporter": "python",
   "pygments_lexer": "ipython3",
   "version": "3.9.12"
  }
 },
 "nbformat": 4,
 "nbformat_minor": 5
}
